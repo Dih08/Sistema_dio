{
  "nbformat": 4,
  "nbformat_minor": 0,
  "metadata": {
    "colab": {
      "provenance": []
    },
    "kernelspec": {
      "name": "python3",
      "display_name": "Python 3"
    },
    "language_info": {
      "name": "python"
    }
  },
  "cells": [
    {
      "cell_type": "code",
      "source": [
        "class Cliente:\n",
        "    def __init__(self, nome: str, saldo: float = 0.0):\n",
        "        self.nome = nome\n",
        "        self.saldo = saldo\n",
        "        self.limite = 500\n",
        "        self.extrato = []\n",
        "\n",
        "    def depositar(self, valor: float):\n",
        "        self.saldo += valor\n",
        "        self.extrato.append(f\"Depósito de R${valor:.2f}\")\n",
        "        print(f\"Você depositou R${valor:.2f}. Seu saldo atual é R${self.saldo:.2f}.\")\n",
        "\n",
        "    def sacar(self, valor: float):\n",
        "        if valor > self.saldo:\n",
        "            print(f\"Desculpe, {self.nome}. Você não tem saldo suficiente para sacar R${valor:.2f}.\")\n",
        "        else:\n",
        "            self.saldo -= valor\n",
        "            print(f\"Você sacou R${valor:.2f}. Seu saldo atual é R${self.saldo:.2f}.\")\n",
        "            self.extrato.append(f\"Saque de R${valor:.2f}\")\n",
        "\n",
        "    def mostrar_extrato(self): # Added this method to the Cliente class\n",
        "        print(\"\\nExtrato:\")\n",
        "        for transacao in self.extrato:\n",
        "            print(transacao)\n",
        "        print(f\"Saldo atual: R$ {self.saldo:.2f}\\n\")"
      ],
      "metadata": {
        "id": "bBkei_Ll0Mby"
      },
      "execution_count": 12,
      "outputs": []
    },
    {
      "cell_type": "code",
      "execution_count": 13,
      "metadata": {
        "colab": {
          "base_uri": "https://localhost:8080/"
        },
        "id": "mk4nBehDs_hG",
        "outputId": "a29d00b2-01f7-4ae2-8f9c-3fe8b0e3793c"
      },
      "outputs": [
        {
          "output_type": "stream",
          "name": "stdout",
          "text": [
            "Você depositou R$1000.00. Seu saldo atual é R$1000.00.\n",
            "Você sacou R$500.00. Seu saldo atual é R$500.00.\n",
            "\n",
            "Extrato:\n",
            "Depósito de R$1000.00\n",
            "Saque de R$500.00\n",
            "Saldo atual: R$ 500.00\n",
            "\n"
          ]
        }
      ],
      "source": [
        "conta = Cliente(\"João\")\n",
        "conta.depositar(1000)\n",
        "conta.sacar(500)\n",
        "conta.mostrar_extrato()"
      ]
    }
  ]
}