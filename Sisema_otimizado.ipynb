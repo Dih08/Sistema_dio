{
  "nbformat": 4,
  "nbformat_minor": 0,
  "metadata": {
    "colab": {
      "provenance": [],
      "authorship_tag": "ABX9TyMwGpWppjTQZk0/N6zQtQqb",
      "include_colab_link": true
    },
    "kernelspec": {
      "name": "python3",
      "display_name": "Python 3"
    },
    "language_info": {
      "name": "python"
    }
  },
  "cells": [
    {
      "cell_type": "markdown",
      "metadata": {
        "id": "view-in-github",
        "colab_type": "text"
      },
      "source": [
        "<a href=\"https://colab.research.google.com/github/Dih08/Sistema_dio/blob/main/Sisema_otimizado.ipynb\" target=\"_parent\"><img src=\"https://colab.research.google.com/assets/colab-badge.svg\" alt=\"Open In Colab\"/></a>"
      ]
    },
    {
      "cell_type": "code",
      "source": [
        "class Cliente:\n",
        "    def __init__(self, nome, cpf, endereco):\n",
        "        self.nome = nome\n",
        "        self.cpf = cpf\n",
        "        self.endereco = endereco\n",
        "\n",
        "class ContaCorrente:\n",
        "    def __init__(self, cliente, numero_conta, saldo_inicial=0):\n",
        "        self.cliente = cliente\n",
        "        self.numero_conta = numero_conta\n",
        "        self.saldo = saldo_inicial\n",
        "\n",
        "    def depositar(self, valor):\n",
        "        self.saldo += valor\n",
        "        print(f\"Depósito de R${valor:.2f} realizado com sucesso. Saldo atual: R${self.saldo:.2f}\")\n",
        "\n",
        "    def sacar(self, valor):\n",
        "        if valor <= self.saldo:\n",
        "            self.saldo -= valor\n",
        "            print(f\"Saque de R${valor:.2f} realizado com sucesso. Saldo atual: R${self.saldo:.2f}\")\n",
        "        else:\n",
        "            print(\"Saldo insuficiente.\")\n",
        "\n",
        "# Exemplo de uso\n",
        "cliente1 = Cliente(\"João Silva\", \"123.456.789-00\", \"Rua das Flores, 123\")\n",
        "conta1 = ContaCorrente(cliente1, \"0001-01\", 1000)\n",
        "\n",
        "print(f\"Cliente: {conta1.cliente.nome}, CPF: {conta1.cliente.cpf}, Endereço: {conta1.cliente.endereco}\")\n",
        "print(f\"Número da Conta: {conta1.numero_conta}, Saldo: R${conta1.saldo:.2f}\")\n",
        "\n",
        "conta1.depositar(500)\n",
        "conta1.sacar(200)\n"
      ],
      "metadata": {
        "colab": {
          "base_uri": "https://localhost:8080/"
        },
        "id": "pz9_-XgyW4PE",
        "outputId": "a6e492c5-083f-4335-f447-64436781989c"
      },
      "execution_count": 1,
      "outputs": [
        {
          "output_type": "stream",
          "name": "stdout",
          "text": [
            "Cliente: João Silva, CPF: 123.456.789-00, Endereço: Rua das Flores, 123\n",
            "Número da Conta: 0001-01, Saldo: R$1000.00\n",
            "Depósito de R$500.00 realizado com sucesso. Saldo atual: R$1500.00\n",
            "Saque de R$200.00 realizado com sucesso. Saldo atual: R$1300.00\n"
          ]
        }
      ]
    },
    {
      "cell_type": "code",
      "source": [],
      "metadata": {
        "id": "oqhrf3XeW4o8"
      },
      "execution_count": null,
      "outputs": []
    }
  ]
}