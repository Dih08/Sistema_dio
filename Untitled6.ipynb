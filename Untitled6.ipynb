{
  "nbformat": 4,
  "nbformat_minor": 0,
  "metadata": {
    "colab": {
      "provenance": [],
      "authorship_tag": "ABX9TyMSZLa/Nysmcy+A8BnOKNIb",
      "include_colab_link": true
    },
    "kernelspec": {
      "name": "python3",
      "display_name": "Python 3"
    },
    "language_info": {
      "name": "python"
    }
  },
  "cells": [
    {
      "cell_type": "markdown",
      "metadata": {
        "id": "view-in-github",
        "colab_type": "text"
      },
      "source": [
        "<a href=\"https://colab.research.google.com/github/Dih08/Sistema_dio/blob/main/Untitled6.ipynb\" target=\"_parent\"><img src=\"https://colab.research.google.com/assets/colab-badge.svg\" alt=\"Open In Colab\"/></a>"
      ]
    },
    {
      "cell_type": "code",
      "source": [
        "!pip install pyttsx3\n",
        "!apt-get install espeak"
      ],
      "metadata": {
        "colab": {
          "base_uri": "https://localhost:8080/"
        },
        "id": "twAjxfKdP2yH",
        "outputId": "ddbfc072-88c2-4568-984f-c520aa73d0e8"
      },
      "execution_count": 4,
      "outputs": [
        {
          "output_type": "stream",
          "name": "stdout",
          "text": [
            "Requirement already satisfied: pyttsx3 in /usr/local/lib/python3.10/dist-packages (2.98)\n",
            "Reading package lists... Done\n",
            "Building dependency tree... Done\n",
            "Reading state information... Done\n",
            "The following additional packages will be installed:\n",
            "  espeak-data libespeak1 libportaudio2 libsonic0\n",
            "The following NEW packages will be installed:\n",
            "  espeak espeak-data libespeak1 libportaudio2 libsonic0\n",
            "0 upgraded, 5 newly installed, 0 to remove and 49 not upgraded.\n",
            "Need to get 1,382 kB of archives.\n",
            "After this operation, 3,178 kB of additional disk space will be used.\n",
            "Get:1 http://archive.ubuntu.com/ubuntu jammy/universe amd64 libportaudio2 amd64 19.6.0-1.1 [65.3 kB]\n",
            "Get:2 http://archive.ubuntu.com/ubuntu jammy/main amd64 libsonic0 amd64 0.2.0-11build1 [10.3 kB]\n",
            "Get:3 http://archive.ubuntu.com/ubuntu jammy/universe amd64 espeak-data amd64 1.48.15+dfsg-3 [1,085 kB]\n",
            "Get:4 http://archive.ubuntu.com/ubuntu jammy/universe amd64 libespeak1 amd64 1.48.15+dfsg-3 [156 kB]\n",
            "Get:5 http://archive.ubuntu.com/ubuntu jammy/universe amd64 espeak amd64 1.48.15+dfsg-3 [64.2 kB]\n",
            "Fetched 1,382 kB in 2s (579 kB/s)\n",
            "Selecting previously unselected package libportaudio2:amd64.\n",
            "(Reading database ... 123634 files and directories currently installed.)\n",
            "Preparing to unpack .../libportaudio2_19.6.0-1.1_amd64.deb ...\n",
            "Unpacking libportaudio2:amd64 (19.6.0-1.1) ...\n",
            "Selecting previously unselected package libsonic0:amd64.\n",
            "Preparing to unpack .../libsonic0_0.2.0-11build1_amd64.deb ...\n",
            "Unpacking libsonic0:amd64 (0.2.0-11build1) ...\n",
            "Selecting previously unselected package espeak-data:amd64.\n",
            "Preparing to unpack .../espeak-data_1.48.15+dfsg-3_amd64.deb ...\n",
            "Unpacking espeak-data:amd64 (1.48.15+dfsg-3) ...\n",
            "Selecting previously unselected package libespeak1:amd64.\n",
            "Preparing to unpack .../libespeak1_1.48.15+dfsg-3_amd64.deb ...\n",
            "Unpacking libespeak1:amd64 (1.48.15+dfsg-3) ...\n",
            "Selecting previously unselected package espeak.\n",
            "Preparing to unpack .../espeak_1.48.15+dfsg-3_amd64.deb ...\n",
            "Unpacking espeak (1.48.15+dfsg-3) ...\n",
            "Setting up libportaudio2:amd64 (19.6.0-1.1) ...\n",
            "Setting up libsonic0:amd64 (0.2.0-11build1) ...\n",
            "Setting up espeak-data:amd64 (1.48.15+dfsg-3) ...\n",
            "Setting up libespeak1:amd64 (1.48.15+dfsg-3) ...\n",
            "Setting up espeak (1.48.15+dfsg-3) ...\n",
            "Processing triggers for man-db (2.10.2-1) ...\n",
            "Processing triggers for libc-bin (2.35-0ubuntu3.4) ...\n",
            "/sbin/ldconfig.real: /usr/local/lib/libtcm_debug.so.1 is not a symbolic link\n",
            "\n",
            "/sbin/ldconfig.real: /usr/local/lib/libur_loader.so.0 is not a symbolic link\n",
            "\n",
            "/sbin/ldconfig.real: /usr/local/lib/libhwloc.so.15 is not a symbolic link\n",
            "\n",
            "/sbin/ldconfig.real: /usr/local/lib/libumf.so.0 is not a symbolic link\n",
            "\n",
            "/sbin/ldconfig.real: /usr/local/lib/libtbbmalloc_proxy.so.2 is not a symbolic link\n",
            "\n",
            "/sbin/ldconfig.real: /usr/local/lib/libtbbbind_2_0.so.3 is not a symbolic link\n",
            "\n",
            "/sbin/ldconfig.real: /usr/local/lib/libtbbbind.so.3 is not a symbolic link\n",
            "\n",
            "/sbin/ldconfig.real: /usr/local/lib/libtbbmalloc.so.2 is not a symbolic link\n",
            "\n",
            "/sbin/ldconfig.real: /usr/local/lib/libtbb.so.12 is not a symbolic link\n",
            "\n",
            "/sbin/ldconfig.real: /usr/local/lib/libtbbbind_2_5.so.3 is not a symbolic link\n",
            "\n",
            "/sbin/ldconfig.real: /usr/local/lib/libtcm.so.1 is not a symbolic link\n",
            "\n",
            "/sbin/ldconfig.real: /usr/local/lib/libur_adapter_level_zero.so.0 is not a symbolic link\n",
            "\n",
            "/sbin/ldconfig.real: /usr/local/lib/libur_adapter_opencl.so.0 is not a symbolic link\n",
            "\n"
          ]
        }
      ]
    },
    {
      "cell_type": "code",
      "source": [
        "!pip install speechrecognition"
      ],
      "metadata": {
        "colab": {
          "base_uri": "https://localhost:8080/"
        },
        "id": "QF0aWfxmQQp-",
        "outputId": "a5365af0-76e3-4c11-8eeb-bc6bb90fc04a"
      },
      "execution_count": 7,
      "outputs": [
        {
          "output_type": "stream",
          "name": "stdout",
          "text": [
            "Collecting speechrecognition\n",
            "  Downloading SpeechRecognition-3.13.0-py3-none-any.whl.metadata (30 kB)\n",
            "Requirement already satisfied: typing-extensions in /usr/local/lib/python3.10/dist-packages (from speechrecognition) (4.12.2)\n",
            "Downloading SpeechRecognition-3.13.0-py3-none-any.whl (32.8 MB)\n",
            "\u001b[2K   \u001b[90m━━━━━━━━━━━━━━━━━━━━━━━━━━━━━━━━━━━━━━━━\u001b[0m \u001b[32m32.8/32.8 MB\u001b[0m \u001b[31m51.1 MB/s\u001b[0m eta \u001b[36m0:00:00\u001b[0m\n",
            "\u001b[?25hInstalling collected packages: speechrecognition\n",
            "Successfully installed speechrecognition-3.13.0\n"
          ]
        }
      ]
    },
    {
      "cell_type": "code",
      "execution_count": 5,
      "metadata": {
        "id": "C_N06qLHPvtJ"
      },
      "outputs": [],
      "source": [
        "import pyttsx3\n",
        "\n",
        "def texto_para_fala(texto):\n",
        "    engine = pyttsx3.init()\n",
        "    engine.say(texto)\n",
        "    engine.runAndWait()\n",
        "\n",
        "texto_para_fala(\"Olá, como posso ajudar você hoje?\")\n"
      ]
    },
    {
      "cell_type": "code",
      "source": [
        "!pip install pyaudio\n",
        "try:\n",
        "    import pyaudio\n",
        "    print(\"PyAudio installed successfully\")\n",
        "except ImportError:\n",
        "    print(\"PyAudio failed to install using pip, trying apt-get\")\n",
        "    !apt-get install portaudio19-dev\n",
        "    !pip install pyaudio\n",
        "    import pyaudio\n",
        "    print(\"PyAudio installed successfully using apt-get\")\n",
        "!pip install pyttsx3\n",
        "!apt-get install espeak\n",
        "!pip install speechrecognition\n",
        "import pyttsx3\n",
        "import pyaudio\n",
        "import speech_recognition as sr\n",
        "\n",
        "def texto_para_fala(texto):\n",
        "    engine = pyttsx3.init()\n",
        "    engine.say(texto)\n",
        "    engine.runAndWait()\n",
        "\n",
        "texto_para_fala(\"Olá, como posso ajudar você hoje?\")\n",
        "\n",
        "\n",
        "def list_audio_devices():\n",
        "    \"\"\"Lists available audio input devices.\"\"\"\n",
        "    audio = pyaudio.PyAudio()\n",
        "    available_devices = []\n",
        "    print(\"Available input devices:\")\n",
        "    for i in range(audio.get_device_count()):\n",
        "        device_info = audio.get_device_info_by_index(i)\n",
        "        if device_info['maxInputChannels'] > 0:\n",
        "            print(f\"  Device {i}: {device_info['name']}\")\n",
        "            available_devices.append(i)\n",
        "    audio.terminate()\n",
        "    return available_devices\n",
        "\n",
        "def fala_para_texto(device_index=None):\n",
        "    recognizer = sr.Recognizer()\n",
        "\n",
        "    available_devices = list_audio_devices() # Get list of audio devices\n",
        "\n",
        "    if device_index is not None:\n",
        "        if device_index in available_devices:\n",
        "           try:\n",
        "               with sr.Microphone(device_index=device_index) as source:\n",
        "                    print(f\"Using microphone with device_index: {device_index}\")\n",
        "                    print(\"Diga algo:\")\n",
        "                    audio = recognizer.listen(source)\n",
        "                    texto = recognizer.recognize_google(audio, language='pt-BR')\n",
        "                    print(f\"Você disse: {texto}\")\n",
        "                    return texto\n",
        "           except sr.UnknownValueError:\n",
        "                print(\"Não entendi o que você disse.\")\n",
        "           except sr.RequestError:\n",
        "                print(\"Erro ao conectar-se ao serviço de reconhecimento de fala.\")\n",
        "           except Exception as e:\n",
        "                print(f\"An unexpected error occurred: {e}\")\n",
        "        else:\n",
        "           print(f\"Device index {device_index} is not valid.\")\n",
        "    elif available_devices:\n",
        "        # Use the first available input device if no device_index is specified\n",
        "        first_device = available_devices[0]\n",
        "        try:\n",
        "            with sr.Microphone(device_index=first_device) as source:\n",
        "                  print(f\"Using microphone with device_index: {first_device}\")\n",
        "                  print(\"Diga algo:\")\n",
        "                  audio = recognizer.listen(source)\n",
        "                  texto = recognizer.recognize_google(audio, language='pt-BR')\n",
        "                  print(f\"Você disse: {texto}\")\n",
        "                  return texto\n",
        "        except sr.UnknownValueError:\n",
        "              print(\"Não entendi o que você disse.\")\n",
        "        except sr.RequestError:\n",
        "              print(\"Erro ao conectar-se ao serviço de reconhecimento de fala.\")\n",
        "        except Exception as e:\n",
        "              print(f\"An unexpected error occurred: {e}\")\n",
        "\n",
        "    else:\n",
        "         print(\"No input audio devices were found.\")\n",
        "\n",
        "# First list available devices\n",
        "#list_audio_devices() #moved this to the fala_para_texto function\n",
        "\n",
        "# Then try to use the default device or the first available device.\n",
        "fala_para_texto()\n",
        "\n",
        "# If the previous one fails, then try using a specific index like 0 if the audio devices are detected by the list_audio_devices function.\n",
        "# fala_para_texto(device_index=0) # Uncomment and change the device index if you get a device listed in list_audio_devices()"
      ],
      "metadata": {
        "colab": {
          "base_uri": "https://localhost:8080/"
        },
        "id": "NC5R8PVeRBo1",
        "outputId": "bba27323-953c-48be-b3f3-e323edfca40a"
      },
      "execution_count": 13,
      "outputs": [
        {
          "output_type": "stream",
          "name": "stdout",
          "text": [
            "Requirement already satisfied: pyaudio in /usr/local/lib/python3.10/dist-packages (0.2.14)\n",
            "PyAudio installed successfully\n",
            "Requirement already satisfied: pyttsx3 in /usr/local/lib/python3.10/dist-packages (2.98)\n",
            "Reading package lists... Done\n",
            "Building dependency tree... Done\n",
            "Reading state information... Done\n",
            "espeak is already the newest version (1.48.15+dfsg-3).\n",
            "0 upgraded, 0 newly installed, 0 to remove and 49 not upgraded.\n",
            "Requirement already satisfied: speechrecognition in /usr/local/lib/python3.10/dist-packages (3.13.0)\n",
            "Requirement already satisfied: typing-extensions in /usr/local/lib/python3.10/dist-packages (from speechrecognition) (4.12.2)\n",
            "Available input devices:\n",
            "No input audio devices were found.\n"
          ]
        }
      ]
    },
    {
      "cell_type": "code",
      "source": [
        "import webbrowser\n",
        "from geopy.geocoders import Nominatim\n",
        "\n",
        "def abrir_wikipedia(pesquisa):\n",
        "    webbrowser.open(f\"https://pt.wikipedia.org/wiki/{pesquisa}\")\n",
        "\n",
        "def abrir_youtube(pesquisa):\n",
        "    webbrowser.open(f\"https://www.youtube.com/results?search_query={pesquisa}\")\n",
        "\n",
        "def localizar_farmacia():\n",
        "    geolocator = Nominatim(user_agent=\"geoapiExercises\")\n",
        "    location = geolocator.geocode(\"Farmácia mais próxima\")\n",
        "    print(f\"Localização: {location.address}\")\n"
      ],
      "metadata": {
        "id": "LIG9tDFkRRZc"
      },
      "execution_count": 15,
      "outputs": []
    }
  ]
}