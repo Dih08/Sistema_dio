{
  "nbformat": 4,
  "nbformat_minor": 0,
  "metadata": {
    "colab": {
      "provenance": [],
      "authorship_tag": "ABX9TyNBoJU70PLaMFf+m5nxd25+",
      "include_colab_link": true
    },
    "kernelspec": {
      "name": "python3",
      "display_name": "Python 3"
    },
    "language_info": {
      "name": "python"
    }
  },
  "cells": [
    {
      "cell_type": "markdown",
      "metadata": {
        "id": "view-in-github",
        "colab_type": "text"
      },
      "source": [
        "<a href=\"https://colab.research.google.com/github/Dih08/Sistema_dio/blob/main/Untitled1.ipynb\" target=\"_parent\"><img src=\"https://colab.research.google.com/assets/colab-badge.svg\" alt=\"Open In Colab\"/></a>"
      ]
    },
    {
      "cell_type": "markdown",
      "source": [
        "Vamos supor que temos os seguintes valores na nossa matriz de confusão:\n",
        "\n",
        "Verdadeiros Positivos (VP): 50\n",
        "\n",
        "Falsos Positivos (FP): 10\n",
        "\n",
        "Verdadeiros Negativos (VN): 40\n",
        "\n",
        "Falsos Negativos (FN): 5"
      ],
      "metadata": {
        "id": "ZlSL-i7b1Ky_"
      }
    },
    {
      "cell_type": "code",
      "execution_count": 1,
      "metadata": {
        "id": "DpIAa7R_0jPa"
      },
      "outputs": [],
      "source": [
        "# Valores da matriz de confusão\n",
        "VP = 50\n",
        "FP = 10\n",
        "VN = 40\n",
        "FN = 5"
      ]
    },
    {
      "cell_type": "code",
      "source": [
        "# Calcular acurácia\n",
        "acuracia = (VP + VN) / (VP + VN + FP + FN)\n"
      ],
      "metadata": {
        "id": "_swqy4a30m8_"
      },
      "execution_count": 2,
      "outputs": []
    },
    {
      "cell_type": "code",
      "source": [
        "# Calcular sensibilidade (recall)\n",
        "sensibilidade = VP / (VP + FN)\n"
      ],
      "metadata": {
        "id": "RX9MF65N0nyn"
      },
      "execution_count": 3,
      "outputs": []
    },
    {
      "cell_type": "code",
      "source": [
        "# Calcular especificidade\n",
        "especificidade = VN / (VN + FP)\n"
      ],
      "metadata": {
        "id": "VSAXucgC0rvH"
      },
      "execution_count": 4,
      "outputs": []
    },
    {
      "cell_type": "code",
      "source": [
        "# Calcular precisão\n",
        "precisao = VP / (VP + FP)"
      ],
      "metadata": {
        "id": "vTFDOITv0tLv"
      },
      "execution_count": 5,
      "outputs": []
    },
    {
      "cell_type": "code",
      "source": [
        "# Calcular F-score\n",
        "f1_score = 2 * (precisao * sensibilidade) / (precisao + sensibilidade)\n"
      ],
      "metadata": {
        "id": "que1TtCp0x_3"
      },
      "execution_count": 6,
      "outputs": []
    },
    {
      "cell_type": "code",
      "source": [
        "# Exibir os resultados\n",
        "print(f\"Acurácia: {acuracia:.2f}\")\n",
        "print(f\"Sensibilidade (Recall): {sensibilidade:.2f}\")\n",
        "print(f\"Especificidade: {especificidade:.2f}\")\n",
        "print(f\"Precisão: {precisao:.2f}\")\n",
        "print(f\"F-score: {f1_score:.2f}\")\n"
      ],
      "metadata": {
        "colab": {
          "base_uri": "https://localhost:8080/"
        },
        "id": "91l-HIMA01e2",
        "outputId": "39c8cf1d-ae50-468d-bf67-e408bad4fef9"
      },
      "execution_count": 7,
      "outputs": [
        {
          "output_type": "stream",
          "name": "stdout",
          "text": [
            "Acurácia: 0.86\n",
            "Sensibilidade (Recall): 0.91\n",
            "Especificidade: 0.80\n",
            "Precisão: 0.83\n",
            "F-score: 0.87\n"
          ]
        }
      ]
    }
  ]
}